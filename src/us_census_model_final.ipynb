{
 "cells": [
  {
   "cell_type": "markdown",
   "metadata": {},
   "source": [
    "#### Author: Papiya Sen\n",
    "\n",
    "#### Project: predict savings from US Census data "
   ]
  },
  {
   "cell_type": "code",
   "execution_count": 2,
   "metadata": {
    "collapsed": false
   },
   "outputs": [],
   "source": [
    "import numpy as np\n",
    "import pandas as pd\n",
    "import matplotlib.pyplot as plt\n",
    "\n",
    "%matplotlib inline\n",
    "\n",
    "columns = [\"age\", \"worker_class\", \"industry_cd\", \"occupation_cd\",\n",
    "           \"education\", \"wage_per_hour\", \"enrolled\",\n",
    "           \"marital_status\", \"major_industry_cd\", \"major_occupation_cd\",\n",
    "           \"race\", \"hispanic\", \"sex\", \"union_member\", \"unempl_reason\",\n",
    "           \"ft_pt_empl_stat\", \"cap_gains\", \"cap_loss\", \"dividends\",\n",
    "           \"tax_filer_status\", \"region_prev_res\", \"state_prev_res\",\n",
    "           \"hhold_fam_stat\", \"hhold_summary\", \"instance_weight\", \"msa_change\",\n",
    "           \"reg_change\", \"reg_within\", \"live_1_year\", \"sunbelt\",\n",
    "           \"num_worked_for_employer\", \"num_under_18\", \n",
    "           \"cntry_birth_father\", \"cntry_birth_mother\", \"cntry_birth_self\",\n",
    "           \"citizenship\", \"own_biz_self\", \"veterans_questions\",\n",
    "           \"veterans_benefits\", \"weeks_worked\", \"year\", \"income\"]\n",
    "\n",
    "# load training data with assigned column names\n",
    "df = pd.read_csv('./census_income_learn.csv', names = columns)\n",
    "\n",
    "# drop column: \"instance_weight\" from df before building the model\n",
    "df = df.drop('instance_weight', 1)\n",
    "\n",
    "# convert \"income\" into boolean variable: '- 50000.' = 0, '50000+.' = 1\n",
    "df['income'] = df['income'].apply(lambda x: 0 if '- 50000.' in x else 1)\n",
    "\n",
    "# build lists for continuous and nominal variables\n",
    "all_vars = [i for i in range(len(df.columns))]\n",
    "continuous_vars = [0, 5, 16, 17, 18, 29, 38]\n",
    "nominal_vars = list(set(all_vars) - set(continuous_vars))\n",
    "# print(nominal_vars)\n",
    "# print('number of columns in df = ', len(df.columns))\n",
    "# print(df.tail())\n",
    "\n",
    "# move response variable (last column) to new dataframe\n",
    "dfY = df.ix[:, 'income']\n",
    "\n",
    "df_plus = df.loc[df['income'] == 1]  # saving profiles when savings > 50,000\n",
    "df_minus = df.loc[df['income'] == 0]  # saving profiles when savings < 50,000\n",
    "\n",
    "# drop response variable, keep only the features \n",
    "df.drop(['income'],inplace=True,axis=1)\n",
    "\n",
    "# making copy for later use\n",
    "df2 = df\n",
    "\n",
    "\n"
   ]
  },
  {
   "cell_type": "code",
   "execution_count": 13,
   "metadata": {
    "collapsed": false
   },
   "outputs": [
    {
     "data": {
      "text/html": [
       "<div>\n",
       "<table border=\"1\" class=\"dataframe\">\n",
       "  <thead>\n",
       "    <tr style=\"text-align: right;\">\n",
       "      <th></th>\n",
       "      <th>count</th>\n",
       "      <th>mean</th>\n",
       "      <th>std</th>\n",
       "      <th>min</th>\n",
       "      <th>25%</th>\n",
       "      <th>50%</th>\n",
       "      <th>75%</th>\n",
       "      <th>max</th>\n",
       "    </tr>\n",
       "    <tr>\n",
       "      <th>Variables</th>\n",
       "      <th></th>\n",
       "      <th></th>\n",
       "      <th></th>\n",
       "      <th></th>\n",
       "      <th></th>\n",
       "      <th></th>\n",
       "      <th></th>\n",
       "      <th></th>\n",
       "    </tr>\n",
       "  </thead>\n",
       "  <tbody>\n",
       "    <tr>\n",
       "      <th>age</th>\n",
       "      <td>199523.0</td>\n",
       "      <td>34.494199</td>\n",
       "      <td>22.310895</td>\n",
       "      <td>0.0</td>\n",
       "      <td>15.0</td>\n",
       "      <td>33.0</td>\n",
       "      <td>50.0</td>\n",
       "      <td>90.0</td>\n",
       "    </tr>\n",
       "    <tr>\n",
       "      <th>wage_per_hour</th>\n",
       "      <td>199523.0</td>\n",
       "      <td>55.426908</td>\n",
       "      <td>274.896454</td>\n",
       "      <td>0.0</td>\n",
       "      <td>0.0</td>\n",
       "      <td>0.0</td>\n",
       "      <td>0.0</td>\n",
       "      <td>9999.0</td>\n",
       "    </tr>\n",
       "    <tr>\n",
       "      <th>cap_gains</th>\n",
       "      <td>199523.0</td>\n",
       "      <td>434.718990</td>\n",
       "      <td>4697.531280</td>\n",
       "      <td>0.0</td>\n",
       "      <td>0.0</td>\n",
       "      <td>0.0</td>\n",
       "      <td>0.0</td>\n",
       "      <td>99999.0</td>\n",
       "    </tr>\n",
       "    <tr>\n",
       "      <th>cap_loss</th>\n",
       "      <td>199523.0</td>\n",
       "      <td>37.313788</td>\n",
       "      <td>271.896428</td>\n",
       "      <td>0.0</td>\n",
       "      <td>0.0</td>\n",
       "      <td>0.0</td>\n",
       "      <td>0.0</td>\n",
       "      <td>4608.0</td>\n",
       "    </tr>\n",
       "    <tr>\n",
       "      <th>dividends</th>\n",
       "      <td>199523.0</td>\n",
       "      <td>197.529533</td>\n",
       "      <td>1984.163658</td>\n",
       "      <td>0.0</td>\n",
       "      <td>0.0</td>\n",
       "      <td>0.0</td>\n",
       "      <td>0.0</td>\n",
       "      <td>99999.0</td>\n",
       "    </tr>\n",
       "    <tr>\n",
       "      <th>num_worked_for_employer</th>\n",
       "      <td>199523.0</td>\n",
       "      <td>1.956180</td>\n",
       "      <td>2.365126</td>\n",
       "      <td>0.0</td>\n",
       "      <td>0.0</td>\n",
       "      <td>1.0</td>\n",
       "      <td>4.0</td>\n",
       "      <td>6.0</td>\n",
       "    </tr>\n",
       "    <tr>\n",
       "      <th>weeks_worked</th>\n",
       "      <td>199523.0</td>\n",
       "      <td>23.174897</td>\n",
       "      <td>24.411488</td>\n",
       "      <td>0.0</td>\n",
       "      <td>0.0</td>\n",
       "      <td>8.0</td>\n",
       "      <td>52.0</td>\n",
       "      <td>52.0</td>\n",
       "    </tr>\n",
       "  </tbody>\n",
       "</table>\n",
       "</div>"
      ],
      "text/plain": [
       "                            count        mean          std  min   25%   50%  \\\n",
       "Variables                                                                     \n",
       "age                      199523.0   34.494199    22.310895  0.0  15.0  33.0   \n",
       "wage_per_hour            199523.0   55.426908   274.896454  0.0   0.0   0.0   \n",
       "cap_gains                199523.0  434.718990  4697.531280  0.0   0.0   0.0   \n",
       "cap_loss                 199523.0   37.313788   271.896428  0.0   0.0   0.0   \n",
       "dividends                199523.0  197.529533  1984.163658  0.0   0.0   0.0   \n",
       "num_worked_for_employer  199523.0    1.956180     2.365126  0.0   0.0   1.0   \n",
       "weeks_worked             199523.0   23.174897    24.411488  0.0   0.0   8.0   \n",
       "\n",
       "                          75%      max  \n",
       "Variables                               \n",
       "age                      50.0     90.0  \n",
       "wage_per_hour             0.0   9999.0  \n",
       "cap_gains                 0.0  99999.0  \n",
       "cap_loss                  0.0   4608.0  \n",
       "dividends                 0.0  99999.0  \n",
       "num_worked_for_employer   4.0      6.0  \n",
       "weeks_worked             52.0     52.0  "
      ]
     },
     "execution_count": 13,
     "metadata": {},
     "output_type": "execute_result"
    }
   ],
   "source": [
    "# Getting statistics on the above continuous variables\n",
    "C_names = []\n",
    "L = []\n",
    "for i in continuous_vars:\n",
    "    if i > 23:\n",
    "        i = i + 1\n",
    "    x = columns[i]\n",
    "    l = df[x].describe().tolist()\n",
    "    L.append(l)\n",
    "    C_names.append(x)\n",
    "L = np.asarray(L)\n",
    "\n",
    "# print statistics for all continuous variables\n",
    "df_stats = pd.DataFrame(L)\n",
    "df_stats.columns = ['count', 'mean', 'std', 'min', '25%', '50%', '75%', 'max']\n",
    "df_stats['Variables'] = C_names\n",
    "indexed_df = df_stats.set_index(['Variables'])\n",
    "print(indexed_df)\n"
   ]
  },
  {
   "cell_type": "code",
   "execution_count": 3,
   "metadata": {
    "collapsed": false
   },
   "outputs": [
    {
     "data": {
      "image/png": "[encoded data removed]",
      "text/plain": [
       "<matplotlib.figure.Figure at 0x10dc75fd0>"
      ]
     },
     "metadata": {},
     "output_type": "display_data"
    }
   ],
   "source": [
    "# Box-plots of continuous variables\n",
    "for i in range(len(continuous_vars)):\n",
    "    plt.subplot(2,4,i+1)\n",
    "    x = continuous_vars[i]\n",
    "    if x > 23:\n",
    "        x = x + 1    \n",
    "    plt.boxplot(df[columns[x]])\n",
    "    plt.title(columns[x])\n",
    "plt.show()\n"
   ]
  },
  {
   "cell_type": "markdown",
   "metadata": {},
   "source": [
    "The above boxplots and statistics indicate a few things:\n",
    "1. Mean is zero for the variables 'wage per hour', 'cap gains', 'cap losses' and 'dividends'\n",
    "2. Average age is 33, and as age increases savings are higher. This is as expected.\n",
    "3. Average weeks worked per year is 8. As weeks worked increase, savings increase , which is as expected."
   ]
  },
  {
   "cell_type": "code",
   "execution_count": 4,
   "metadata": {
    "collapsed": false
   },
   "outputs": [
    {
     "data": {
      "image/png": "[encoded data removed]",
      "text/plain": [
       "<matplotlib.figure.Figure at 0x10dc75080>"
      ]
     },
     "metadata": {},
     "output_type": "display_data"
    }
   ],
   "source": [
    "# visualize effect of continuous features on response\n",
    "\n",
    "for i in range(len(continuous_vars)):\n",
    "    plt.subplot(2,4,i+1)\n",
    "    x = continuous_vars[i]\n",
    "    if x > 23:\n",
    "        x = x + 1\n",
    "    plt.scatter(df[columns[x]], dfY)\n",
    "    plt.title(columns[x])\n",
    "plt.show() "
   ]
  },
  {
   "cell_type": "markdown",
   "metadata": {},
   "source": [
    "From above plots:\n",
    "\n",
    "'age' plot: when age is small, there is less savings, which is intuitive. Hence, age is a variable to keep.\n",
    "\n",
    "In 'wage per hour' plot, when wage increases, we do not get higher savings. This is counter-intuitive. This may be due to a different factor reducing the effect of higher wages.\n",
    "\n",
    "'dividends' after a threshold does positively affect the savings.\n",
    "\n",
    "'# family members < 18' does not appear to have an effect on savings\n",
    "\n",
    "'weeks worked per year' does positively affect savings "
   ]
  },
  {
   "cell_type": "code",
   "execution_count": 6,
   "metadata": {
    "collapsed": false
   },
   "outputs": [
    {
     "name": "stdout",
     "output_type": "stream",
     "text": [
      "(array([], dtype=int64), array([], dtype=int64))\n",
      "[' Not in universe' ' Arkansas' ' Utah' ' Michigan' ' Minnesota' ' Alaska'\n",
      " ' Kansas' ' Indiana' ' ?' ' Massachusetts' ' New Mexico' ' Nevada'\n",
      " ' Tennessee' ' Colorado' ' Abroad' ' Kentucky' ' California' ' Arizona'\n",
      " ' North Carolina' ' Connecticut' ' Florida' ' Vermont' ' Maryland'\n",
      " ' Oklahoma' ' Oregon' ' Ohio' ' South Carolina' ' Texas' ' Montana'\n",
      " ' Wyoming' ' Georgia' ' Pennsylvania' ' Iowa' ' New Hampshire' ' Missouri'\n",
      " ' Alabama' ' North Dakota' ' New Jersey' ' Louisiana' ' West Virginia'\n",
      " ' Delaware' ' Illinois' ' Maine' ' Wisconsin' ' New York' ' Idaho'\n",
      " ' District of Columbia' ' South Dakota' ' Nebraska' ' Virginia'\n",
      " ' Mississippi']\n"
     ]
    }
   ],
   "source": [
    "# check for missing values\n",
    "print(np.where(pd.isnull(df)))\n",
    "\n",
    "# check for illogical values\n",
    "print(df[columns[21]].unique()) # check all columns for missing values"
   ]
  },
  {
   "cell_type": "code",
   "execution_count": null,
   "metadata": {
    "collapsed": true
   },
   "outputs": [],
   "source": [
    "# replacing \"?\" in dataframe with string \"missing\"\n",
    "df.replace(' ?', ' Missing', inplace=True)\n"
   ]
  },
  {
   "cell_type": "markdown",
   "metadata": {},
   "source": [
    "From above:\n",
    "\n",
    "There are no empty cells in the dataframe\n",
    "\n"
   ]
  },
  {
   "cell_type": "markdown",
   "metadata": {},
   "source": [
    "#### CLASSIFIERS"
   ]
  },
  {
   "cell_type": "code",
   "execution_count": 8,
   "metadata": {
    "collapsed": false
   },
   "outputs": [
    {
     "name": "stdout",
     "output_type": "stream",
     "text": [
      "1 worker_class\n",
      "2 industry_cd\n",
      "3 occupation_cd\n",
      "4 education\n",
      "6 enrolled\n",
      "7 marital_status\n",
      "8 major_industry_cd\n",
      "9 major_occupation_cd\n",
      "10 race\n",
      "11 hispanic\n",
      "12 sex\n",
      "13 union_member\n",
      "14 unempl_reason\n",
      "15 ft_pt_empl_stat\n",
      "19 tax_filer_status\n",
      "20 region_prev_res\n",
      "21 state_prev_res\n",
      "22 hhold_fam_stat\n",
      "23 hhold_summary\n",
      "25 msa_change\n",
      "26 reg_change\n",
      "27 reg_within\n",
      "28 live_1_year\n",
      "29 sunbelt\n",
      "31 num_under_18\n",
      "32 cntry_birth_father\n",
      "33 cntry_birth_mother\n",
      "34 cntry_birth_self\n",
      "35 citizenship\n",
      "36 own_biz_self\n",
      "37 veterans_questions\n",
      "38 veterans_benefits\n",
      "40 year\n"
     ]
    },
    {
     "name": "stderr",
     "output_type": "stream",
     "text": [
      "/Users/papiyasen/anaconda/lib/python3.6/site-packages/sklearn/cross_validation.py:44: DeprecationWarning: This module was deprecated in version 0.18 in favor of the model_selection module into which all the refactored classes and functions are moved. Also note that the interface of the new CV iterators are different from that of this module. This module will be removed in 0.20.\n",
      "  \"This module will be removed in 0.20.\", DeprecationWarning)\n"
     ]
    }
   ],
   "source": [
    "# Preprocessing nominal columns\n",
    "from sklearn import preprocessing\n",
    "for index in nominal_vars:\n",
    "    if index < 40:\n",
    "        le = preprocessing.LabelEncoder()\n",
    "        if index > 23:\n",
    "            index = index + 1\n",
    "        print(index, columns[index])    \n",
    "        df[columns[index]] = le.fit_transform(df[columns[index]])\n",
    "        \n",
    "# cross validation\n",
    "from sklearn.cross_validation import cross_val_score\n",
    "n_folds = 5       \n",
    "        "
   ]
  },
  {
   "cell_type": "markdown",
   "metadata": {},
   "source": [
    "\n",
    "Find best Classifier with cross-validation using 'f1 score' metrics "
   ]
  },
  {
   "cell_type": "code",
   "execution_count": 9,
   "metadata": {
    "collapsed": false
   },
   "outputs": [
    {
     "name": "stdout",
     "output_type": "stream",
     "text": [
      "Five-fold cross validation F1 score mean for LR is  0.388509667896\n",
      "Five-fold cross validation F1 score mean for DT is  0.437773423604\n",
      "Five-fold cross validation F1 score mean for RFC is  0.452347487726\n"
     ]
    }
   ],
   "source": [
    "# testing different classifiers - Logistic Regression, Decision Tree, Random Forest\n",
    "from sklearn.metrics import f1_score, classification_report, confusion_matrix\n",
    "\n",
    "# evaluate Logistic Regression model\n",
    "from sklearn.linear_model import LogisticRegression\n",
    "lr = LogisticRegression()\n",
    "print(\"Five-fold cross validation F1 score mean for LR is \", cross_val_score(lr, df, dfY, cv = n_folds, scoring='f1').mean())\n",
    "\n",
    "# evaluate Decision Tree classifier\n",
    "from sklearn.tree import DecisionTreeClassifier\n",
    "dt = DecisionTreeClassifier(criterion='entropy', max_depth=10)\n",
    "print(\"Five-fold cross validation F1 score mean for DT is \", cross_val_score(dt, df, dfY, cv = n_folds, scoring='f1').mean())\n",
    "\n",
    "# evaluate Random Forest classifier (RFC)\n",
    "from sklearn.ensemble import RandomForestClassifier\n",
    "rfc = RandomForestClassifier(criterion='entropy', max_depth=15)\n",
    "print(\"Five-fold cross validation F1 score mean for RFC is \", cross_val_score(rfc, df, dfY, cv = n_folds, scoring='f1').mean())\n",
    "\n",
    "\n"
   ]
  },
  {
   "cell_type": "code",
   "execution_count": 95,
   "metadata": {
    "collapsed": false
   },
   "outputs": [
    {
     "name": "stdout",
     "output_type": "stream",
     "text": [
      "depth is 20\n",
      "depth is 21\n",
      "depth is 22\n",
      "depth is 23\n",
      "depth is 24\n",
      "depth is 25\n"
     ]
    },
    {
     "data": {
      "image/png": "[encoded data removed]",
      "text/plain": [
       "<matplotlib.figure.Figure at 0x1226c75c0>"
      ]
     },
     "metadata": {},
     "output_type": "display_data"
    }
   ],
   "source": [
    "# better F1-score is achieved with RFC compared to Logistic Regression and Decision Tree\n",
    "# finding best parameter for RFC\n",
    "depth_range = range(8, 26)\n",
    "d_scores = []\n",
    "for d in depth_range:\n",
    "    print(\"depth is %d\" %d)\n",
    "    rfc = RandomForestClassifier(criterion='entropy', max_depth=d)\n",
    "    score = cross_val_score(rfc, df, dfY, cv = n_folds, scoring='f1').mean()\n",
    "    d_scores.append(score)\n",
    "\n",
    "plt.plot(depth_range, d_scores)\n",
    "plt.xlabel(\"max depth\")\n",
    "plt.ylabel(\"F1 score\")\n",
    "plt.show()"
   ]
  },
  {
   "cell_type": "markdown",
   "metadata": {},
   "source": [
    "Best F1 score is when depth = 23. We choose this parameter value for our Randon forest classifier."
   ]
  },
  {
   "cell_type": "code",
   "execution_count": 11,
   "metadata": {
    "collapsed": false
   },
   "outputs": [
    {
     "name": "stdout",
     "output_type": "stream",
     "text": [
      "F1 score for RFC is  0.50664026205\n"
     ]
    }
   ],
   "source": [
    "# Fit RFC model of depth = 23 to the entire dataset \n",
    "rfc_new = RandomForestClassifier(criterion='entropy', max_depth=23)\n",
    "rfcm_new = rfc_new.fit(df, dfY)\n",
    "score = cross_val_score(rfcm_new, df, dfY, cv = n_folds, scoring='f1').mean()\n",
    "print(\"Training F1 score for RFC is \", score)"
   ]
  },
  {
   "cell_type": "code",
   "execution_count": 12,
   "metadata": {
    "collapsed": false
   },
   "outputs": [
    {
     "name": "stdout",
     "output_type": "stream",
     "text": [
      "Test F1 score for RFC is  0.456048341124\n"
     ]
    }
   ],
   "source": [
    "## prediction using RFC model\n",
    "\n",
    "df_test = pd.read_csv('./census_income_test.csv', names = columns)\n",
    "df_test = df_test.drop('instance_weight', 1)\n",
    "df_test['income'] = df_test['income'].apply(lambda x: 0 if '- 50000.' in x else 1)\n",
    "\n",
    "dfY_test = df_test.ix[:, 'income']\n",
    "df_test.drop(['income'],inplace=True,axis=1)\n",
    "\n",
    "# preprocessing test data\n",
    "for index in nominal_vars:\n",
    "    if index < 40:\n",
    "        le = preprocessing.LabelEncoder()\n",
    "        if index > 23:\n",
    "            index = index + 1\n",
    "        #print(index, columns[index])    \n",
    "        df_test[columns[index]] = le.fit_transform(df_test[columns[index]])\n",
    "        \n",
    "# calculate f1 score for test data\n",
    "print(\"Test F1 score for RFC is \",f1_score(dfY_test, rfcm_new.predict(df_test)))\n"
   ]
  },
  {
   "cell_type": "code",
   "execution_count": 19,
   "metadata": {
    "collapsed": false
   },
   "outputs": [
    {
     "data": {
      "text/html": [
       "<div>\n",
       "<table border=\"1\" class=\"dataframe\">\n",
       "  <thead>\n",
       "    <tr style=\"text-align: right;\">\n",
       "      <th></th>\n",
       "      <th>count</th>\n",
       "      <th>mean</th>\n",
       "      <th>std</th>\n",
       "      <th>min</th>\n",
       "      <th>25%</th>\n",
       "      <th>50%</th>\n",
       "      <th>75%</th>\n",
       "      <th>max</th>\n",
       "    </tr>\n",
       "    <tr>\n",
       "      <th>Variables</th>\n",
       "      <th></th>\n",
       "      <th></th>\n",
       "      <th></th>\n",
       "      <th></th>\n",
       "      <th></th>\n",
       "      <th></th>\n",
       "      <th></th>\n",
       "      <th></th>\n",
       "    </tr>\n",
       "  </thead>\n",
       "  <tbody>\n",
       "    <tr>\n",
       "      <th>age</th>\n",
       "      <td>12382.0</td>\n",
       "      <td>46.266193</td>\n",
       "      <td>11.830906</td>\n",
       "      <td>16.0</td>\n",
       "      <td>38.0</td>\n",
       "      <td>45.0</td>\n",
       "      <td>53.0</td>\n",
       "      <td>90.0</td>\n",
       "    </tr>\n",
       "    <tr>\n",
       "      <th>wage_per_hour</th>\n",
       "      <td>12382.0</td>\n",
       "      <td>81.640284</td>\n",
       "      <td>431.364773</td>\n",
       "      <td>0.0</td>\n",
       "      <td>0.0</td>\n",
       "      <td>0.0</td>\n",
       "      <td>0.0</td>\n",
       "      <td>9999.0</td>\n",
       "    </tr>\n",
       "    <tr>\n",
       "      <th>cap_gains</th>\n",
       "      <td>12382.0</td>\n",
       "      <td>4830.930060</td>\n",
       "      <td>16887.627002</td>\n",
       "      <td>0.0</td>\n",
       "      <td>0.0</td>\n",
       "      <td>0.0</td>\n",
       "      <td>0.0</td>\n",
       "      <td>99999.0</td>\n",
       "    </tr>\n",
       "    <tr>\n",
       "      <th>cap_loss</th>\n",
       "      <td>12382.0</td>\n",
       "      <td>193.139557</td>\n",
       "      <td>607.542507</td>\n",
       "      <td>0.0</td>\n",
       "      <td>0.0</td>\n",
       "      <td>0.0</td>\n",
       "      <td>0.0</td>\n",
       "      <td>3683.0</td>\n",
       "    </tr>\n",
       "    <tr>\n",
       "      <th>dividends</th>\n",
       "      <td>12382.0</td>\n",
       "      <td>1553.448070</td>\n",
       "      <td>6998.071762</td>\n",
       "      <td>0.0</td>\n",
       "      <td>0.0</td>\n",
       "      <td>0.0</td>\n",
       "      <td>363.0</td>\n",
       "      <td>99999.0</td>\n",
       "    </tr>\n",
       "    <tr>\n",
       "      <th>num_worked_for_employer</th>\n",
       "      <td>12382.0</td>\n",
       "      <td>4.003715</td>\n",
       "      <td>2.118183</td>\n",
       "      <td>0.0</td>\n",
       "      <td>2.0</td>\n",
       "      <td>4.0</td>\n",
       "      <td>6.0</td>\n",
       "      <td>6.0</td>\n",
       "    </tr>\n",
       "    <tr>\n",
       "      <th>weeks_worked</th>\n",
       "      <td>12382.0</td>\n",
       "      <td>48.069617</td>\n",
       "      <td>12.259412</td>\n",
       "      <td>0.0</td>\n",
       "      <td>52.0</td>\n",
       "      <td>52.0</td>\n",
       "      <td>52.0</td>\n",
       "      <td>52.0</td>\n",
       "    </tr>\n",
       "  </tbody>\n",
       "</table>\n",
       "</div>"
      ],
      "text/plain": [
       "                           count         mean           std   min   25%   50%  \\\n",
       "Variables                                                                       \n",
       "age                      12382.0    46.266193     11.830906  16.0  38.0  45.0   \n",
       "wage_per_hour            12382.0    81.640284    431.364773   0.0   0.0   0.0   \n",
       "cap_gains                12382.0  4830.930060  16887.627002   0.0   0.0   0.0   \n",
       "cap_loss                 12382.0   193.139557    607.542507   0.0   0.0   0.0   \n",
       "dividends                12382.0  1553.448070   6998.071762   0.0   0.0   0.0   \n",
       "num_worked_for_employer  12382.0     4.003715      2.118183   0.0   2.0   4.0   \n",
       "weeks_worked             12382.0    48.069617     12.259412   0.0  52.0  52.0   \n",
       "\n",
       "                           75%      max  \n",
       "Variables                                \n",
       "age                       53.0     90.0  \n",
       "wage_per_hour              0.0   9999.0  \n",
       "cap_gains                  0.0  99999.0  \n",
       "cap_loss                   0.0   3683.0  \n",
       "dividends                363.0  99999.0  \n",
       "num_worked_for_employer    6.0      6.0  \n",
       "weeks_worked              52.0     52.0  "
      ]
     },
     "execution_count": 19,
     "metadata": {},
     "output_type": "execute_result"
    }
   ],
   "source": [
    "# find features that affect  savings > 50000\n",
    "\n",
    "# Getting statistics on the continuous variables\n",
    "Cplus_names = []\n",
    "Lplus = []\n",
    "for i in continuous_vars:\n",
    "    if i > 23:\n",
    "        i = i + 1\n",
    "    x = columns[i]\n",
    "    l = df_plus[x].describe().tolist()\n",
    "    Lplus.append(l)\n",
    "    Cplus_names.append(x)\n",
    "Lplus = np.asarray(Lplus)\n",
    "\n",
    "# print statistics for all continuous variables\n",
    "df_plus_stats = pd.DataFrame(Lplus)\n",
    "df_plus_stats.columns = ['count', 'mean', 'std', 'min', '25%', '50%', '75%', 'max']\n",
    "df_plus_stats['Variables'] = Cplus_names\n",
    "indexed_df_plus = df_plus_stats.set_index(['Variables'])\n",
    "print(indexed_df_plus)"
   ]
  },
  {
   "cell_type": "code",
   "execution_count": 40,
   "metadata": {
    "collapsed": false
   },
   "outputs": [
    {
     "name": "stdout",
     "output_type": "stream",
     "text": [
      "[(' Married-civilian spouse present', 9600), (' Never married', 1117), (' Divorced', 1066)]\n"
     ]
    },
    {
     "data": {
      "image/png": "[encoded data removed]",
      "text/plain": [
       "<matplotlib.figure.Figure at 0x116a241d0>"
      ]
     },
     "metadata": {},
     "output_type": "display_data"
    }
   ],
   "source": [
    "# check nominal variables affecting savongs > 50,000\n",
    "\n",
    "from collections import Counter\n",
    "\n",
    "# print top 3 categories in 'education'\n",
    "print(Counter(df_plus['marital_status']).most_common(3))\n",
    "\n",
    "\n",
    "labels, values = zip(*Counter(df_plus['marital_status']).items())\n",
    "\n",
    "indexes = np.arange(len(labels))\n",
    "width = 1\n",
    "plt.barh(indexes, values, width)\n",
    "plt.yticks(indexes + width * 0.5, labels)\n",
    "plt.show()\n"
   ]
  },
  {
   "cell_type": "code",
   "execution_count": null,
   "metadata": {
    "collapsed": true
   },
   "outputs": [],
   "source": []
  }
 ],
 "metadata": {
  "kernelspec": {
   "display_name": "Python [Root]",
   "language": "python",
   "name": "Python [Root]"
  },
  "language_info": {
   "codemirror_mode": {
    "name": "ipython",
    "version": 3
   },
   "file_extension": ".py",
   "mimetype": "text/x-python",
   "name": "python",
   "nbconvert_exporter": "python",
   "pygments_lexer": "ipython3",
   "version": "3.6.0"
  }
 },
 "nbformat": 4,
 "nbformat_minor": 0
}
